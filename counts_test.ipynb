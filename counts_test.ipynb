{
 "cells": [
  {
   "cell_type": "code",
   "execution_count": null,
   "id": "271dbdfa",
   "metadata": {},
   "outputs": [
    {
     "data": {
      "text/plain": [
       "{'LAT': 2,\n",
       " 'VP': 1,\n",
       " 'LGd': 2,\n",
       " 'SSp-bfd': 1,\n",
       " 'VISrl': 4,\n",
       " 'VISp': 4,\n",
       " 'VISal': 1,\n",
       " 'VISpm': 1,\n",
       " 'AUDpo': 1,\n",
       " 'VISl': 1,\n",
       " 'ENTm': 1}"
      ]
     },
     "execution_count": 34,
     "metadata": {},
     "output_type": "execute_result"
    }
   ],
   "source": [
    "structure = \"Primary motor area, Layer 2/3\"\n",
    "from pathlib import Path\n",
    "import os\n",
    "\n",
    "from allensdk.core.reference_space_cache import ReferenceSpaceCache\n",
    "\n",
    "output_dir = '.'\n",
    "reference_space_key = os.path.join('annotation', 'ccf_2017')\n",
    "rspc = ReferenceSpaceCache(resolution=25, reference_space_key=reference_space_key, manifest=Path(output_dir) / 'manifest.json')\n",
    "# ID 1 is the adult mouse structure graph\n",
    "tree = rspc.get_structure_tree(structure_graph_id=1) \n",
    "id_acronym_map = tree.get_id_acronym_map()\n",
    "#tree.get_structures_by_acronym(['MO5']) # if:299\n",
    "tree.parents([id_acronym_map['MO5']])\n",
    "from collections import Counter\n",
    "id_acronym_map = tree.get_id_acronym_map()\n",
    "ids = [id_acronym_map[acronym] for acronym in list(points_csv['acronym'])]\n",
    "#tree.get_structures_by_acronym(['MO5']) # if:299\n",
    "parent_dics = tree.parents(ids)\n",
    "parent_acronyms = [parent_dict['acronym'] for parent_dict in parent_dics]\n",
    "parent_counts = dict(Counter(parent_acronyms))\n",
    "parent_counts"
   ]
  },
  {
   "cell_type": "code",
   "execution_count": 15,
   "id": "ef3413e9",
   "metadata": {},
   "outputs": [
    {
     "name": "stdout",
     "output_type": "stream",
     "text": [
      "{'VISrl4,right': 8, 'VISp5,right': 20, 'VISp6a,right': 13, 'VISal5,right': 1, 'VISpm5,right': 3, 'VISp2/3,right': 31, 'VISp4,right': 14, 'VISrl6a,right': 8, 'VISrl5,right': 3, 'VISrl2/3,right': 6, 'VISl5,right': 1}\n",
      "{'VISrl4,right': '#fcc0a8', 'VISp5,right': '#ec382a', 'VISp6a,right': '#fb8a6a', 'VISal5,right': '#fff5f0', 'VISpm5,right': '#fee9e0', 'VISp2/3,right': '#67000c', 'VISp4,right': '#fb7f5f', 'VISrl6a,right': '#fcc0a8', 'VISrl5,right': '#fee9e0', 'VISrl2/3,right': '#fdd4c2', 'VISl5,right': '#fff5f0'}\n",
      "{'VISrl4,right': '#fcc0a8', 'VISp5,right': '#ec382a', 'VISp6a,right': '#fb8a6a', 'VISal5,right': '#fff5f0', 'VISpm5,right': '#fee9e0', 'VISp2/3,right': '#67000c', 'VISp4,right': '#fb7f5f', 'VISrl6a,right': '#fcc0a8', 'VISrl5,right': '#fee9e0', 'VISrl2/3,right': '#fdd4c2', 'VISl5,right': '#fff5f0'}\n",
      "{'VISrl4,right': '#fcc0a8', 'VISp5,right': '#ec382a', 'VISp6a,right': '#fb8a6a', 'VISal5,right': '#fff5f0', 'VISpm5,right': '#fee9e0', 'VISp2/3,right': '#67000c', 'VISp4,right': '#fb7f5f', 'VISrl6a,right': '#fcc0a8', 'VISrl5,right': '#fee9e0', 'VISrl2/3,right': '#fdd4c2', 'VISl5,right': '#fff5f0'}\n",
      "{'VISrl4,right': '#fcc0a8', 'VISp5,right': '#ec382a', 'VISp6a,right': '#fb8a6a', 'VISal5,right': '#fff5f0', 'VISpm5,right': '#fee9e0', 'VISp2/3,right': '#67000c', 'VISp4,right': '#fb7f5f', 'VISrl6a,right': '#fcc0a8', 'VISrl5,right': '#fee9e0', 'VISrl2/3,right': '#fdd4c2', 'VISl5,right': '#fff5f0'}\n",
      "{'VISrl4,right': '#fcc0a8', 'VISp5,right': '#ec382a', 'VISp6a,right': '#fb8a6a', 'VISal5,right': '#fff5f0', 'VISpm5,right': '#fee9e0', 'VISp2/3,right': '#67000c', 'VISp4,right': '#fb7f5f', 'VISrl6a,right': '#fcc0a8', 'VISrl5,right': '#fee9e0', 'VISrl2/3,right': '#fdd4c2', 'VISl5,right': '#fff5f0'}\n",
      "{'VISrl4,right': '#fcc0a8', 'VISp5,right': '#ec382a', 'VISp6a,right': '#fb8a6a', 'VISal5,right': '#fff5f0', 'VISpm5,right': '#fee9e0', 'VISp2/3,right': '#67000c', 'VISp4,right': '#fb7f5f', 'VISrl6a,right': '#fcc0a8', 'VISrl5,right': '#fee9e0', 'VISrl2/3,right': '#fdd4c2', 'VISl5,right': '#fff5f0'}\n",
      "{'VISrl4,right': '#fcc0a8', 'VISp5,right': '#ec382a', 'VISp6a,right': '#fb8a6a', 'VISal5,right': '#fff5f0', 'VISpm5,right': '#fee9e0', 'VISp2/3,right': '#67000c', 'VISp4,right': '#fb7f5f', 'VISrl6a,right': '#fcc0a8', 'VISrl5,right': '#fee9e0', 'VISrl2/3,right': '#fdd4c2', 'VISl5,right': '#fff5f0'}\n",
      "{'VISrl4,right': '#fcc0a8', 'VISp5,right': '#ec382a', 'VISp6a,right': '#fb8a6a', 'VISal5,right': '#fff5f0', 'VISpm5,right': '#fee9e0', 'VISp2/3,right': '#67000c', 'VISp4,right': '#fb7f5f', 'VISrl6a,right': '#fcc0a8', 'VISrl5,right': '#fee9e0', 'VISrl2/3,right': '#fdd4c2', 'VISl5,right': '#fff5f0'}\n",
      "{'VISrl4,right': '#fcc0a8', 'VISp5,right': '#ec382a', 'VISp6a,right': '#fb8a6a', 'VISal5,right': '#fff5f0', 'VISpm5,right': '#fee9e0', 'VISp2/3,right': '#67000c', 'VISp4,right': '#fb7f5f', 'VISrl6a,right': '#fcc0a8', 'VISrl5,right': '#fee9e0', 'VISrl2/3,right': '#fdd4c2', 'VISl5,right': '#fff5f0'}\n",
      "{'VISrl4,right': '#fcc0a8', 'VISp5,right': '#ec382a', 'VISp6a,right': '#fb8a6a', 'VISal5,right': '#fff5f0', 'VISpm5,right': '#fee9e0', 'VISp2/3,right': '#67000c', 'VISp4,right': '#fb7f5f', 'VISrl6a,right': '#fcc0a8', 'VISrl5,right': '#fee9e0', 'VISrl2/3,right': '#fdd4c2', 'VISl5,right': '#fff5f0'}\n",
      "{'VISrl4,right': '#fcc0a8', 'VISp5,right': '#ec382a', 'VISp6a,right': '#fb8a6a', 'VISal5,right': '#fff5f0', 'VISpm5,right': '#fee9e0', 'VISp2/3,right': '#67000c', 'VISp4,right': '#fb7f5f', 'VISrl6a,right': '#fcc0a8', 'VISrl5,right': '#fee9e0', 'VISrl2/3,right': '#fdd4c2', 'VISl5,right': '#fff5f0'}\n",
      "{'VISrl4,right': '#fcc0a8', 'VISp5,right': '#ec382a', 'VISp6a,right': '#fb8a6a', 'VISal5,right': '#fff5f0', 'VISpm5,right': '#fee9e0', 'VISp2/3,right': '#67000c', 'VISp4,right': '#fb7f5f', 'VISrl6a,right': '#fcc0a8', 'VISrl5,right': '#fee9e0', 'VISrl2/3,right': '#fdd4c2', 'VISl5,right': '#fff5f0'}\n"
     ]
    },
    {
     "data": {
      "text/html": [
       "<pre style=\"white-space:pre;overflow-x:auto;line-height:normal;font-family:Menlo,'DejaVu Sans Mono',consolas,'Courier New',monospace\"><span style=\"color: #ffca28; text-decoration-color: #ffca28\">Saving video in </span><span style=\"color: #ffa726; text-decoration-color: #ffa726\">/home/gianna/Downloads</span>\n",
       "</pre>\n"
      ],
      "text/plain": [
       "\u001b[38;2;255;202;40mSaving video in \u001b[0m\u001b[38;2;255;167;38m/home/gianna/\u001b[0m\u001b[38;2;255;167;38mDownloads\u001b[0m\n"
      ]
     },
     "metadata": {},
     "output_type": "display_data"
    },
    {
     "name": "stdout",
     "output_type": "stream",
     "text": [
      "\u001b[1m\u001b[35m📽  Video file brainrender_animation is open... \u001b[0m"
     ]
    },
    {
     "data": {
      "application/vnd.jupyter.widget-view+json": {
       "model_id": "4ff0f9ba97d74ddd80d4cb8763c99adc",
       "version_major": 2,
       "version_minor": 0
      },
      "text/plain": [
       "Output()"
      ]
     },
     "metadata": {},
     "output_type": "display_data"
    },
    {
     "data": {
      "text/html": [
       "<pre style=\"white-space:pre;overflow-x:auto;line-height:normal;font-family:Menlo,'DejaVu Sans Mono',consolas,'Courier New',monospace\"></pre>\n"
      ],
      "text/plain": []
     },
     "metadata": {},
     "output_type": "display_data"
    },
    {
     "data": {
      "text/html": [
       "<pre style=\"white-space:pre;overflow-x:auto;line-height:normal;font-family:Menlo,'DejaVu Sans Mono',consolas,'Courier New',monospace\"><span style=\"color: #ffe082; text-decoration-color: #ffe082\">Saving video</span>\n",
       "</pre>\n"
      ],
      "text/plain": [
       "\u001b[38;2;255;224;130mSaving video\u001b[0m\n"
      ]
     },
     "metadata": {},
     "output_type": "display_data"
    },
    {
     "data": {
      "text/html": [
       "<pre style=\"white-space:pre;overflow-x:auto;line-height:normal;font-family:Menlo,'DejaVu Sans Mono',consolas,'Courier New',monospace\"><span style=\"color: #ffa726; text-decoration-color: #ffa726; font-weight: bold\">ffmpeg returned an error while trying to save video with command:</span>\n",
       "<span style=\"color: #ffa726; text-decoration-color: #ffa726; font-weight: bold\">    </span><span style=\"color: #ff7043; text-decoration-color: #ff7043; font-weight: bold\">ffmpeg -hide_banner -loglevel panic -y -r </span><span style=\"color: #ff7043; text-decoration-color: #ff7043; font-weight: bold\">15</span><span style=\"color: #ff7043; text-decoration-color: #ff7043; font-weight: bold\"> -start_number </span><span style=\"color: #ff7043; text-decoration-color: #ff7043; font-weight: bold\">0</span><span style=\"color: #ff7043; text-decoration-color: #ff7043; font-weight: bold\"> -i /tmp/tmpjaerx2mh/%d.png -vcodec libx264 -crf </span><span style=\"color: #ff7043; text-decoration-color: #ff7043; font-weight: bold\">28</span>\n",
       "<span style=\"color: #ff7043; text-decoration-color: #ff7043; font-weight: bold\">-pix_fmt yuv420p -s 128</span><span style=\"color: #ff7043; text-decoration-color: #ff7043; font-weight: bold\">0x920</span><span style=\"color: #ff7043; text-decoration-color: #ff7043; font-weight: bold\"> brainrender_animation..mp4</span>\n",
       "</pre>\n"
      ],
      "text/plain": [
       "\u001b[1;38;2;255;167;38mffmpeg returned an error while trying to save video with command:\u001b[0m\n",
       "\u001b[1;38;2;255;167;38m    \u001b[0m\u001b[1;38;2;255;112;67mffmpeg -hide_banner -loglevel panic -y -r \u001b[0m\u001b[1;38;2;255;112;67m15\u001b[0m\u001b[1;38;2;255;112;67m -start_number \u001b[0m\u001b[1;38;2;255;112;67m0\u001b[0m\u001b[1;38;2;255;112;67m -i \u001b[0m\u001b[1;38;2;255;112;67m/tmp/tmpjaerx2mh/\u001b[0m\u001b[1;38;2;255;112;67m%d.png -vcodec libx264 -crf \u001b[0m\u001b[1;38;2;255;112;67m28\u001b[0m\n",
       "\u001b[1;38;2;255;112;67m-pix_fmt yuv420p -s 128\u001b[0m\u001b[1;38;2;255;112;67m0x920\u001b[0m\u001b[1;38;2;255;112;67m brainrender_animation..mp4\u001b[0m\n"
      ]
     },
     "metadata": {},
     "output_type": "display_data"
    },
    {
     "data": {
      "text/html": [
       "<pre style=\"white-space:pre;overflow-x:auto;line-height:normal;font-family:Menlo,'DejaVu Sans Mono',consolas,'Courier New',monospace\"></pre>\n"
      ],
      "text/plain": []
     },
     "metadata": {},
     "output_type": "display_data"
    },
    {
     "data": {
      "text/plain": [
       "\u001b[32m'/home/gianna/Downloads/brainrender_animation..mp4'\u001b[0m"
      ]
     },
     "execution_count": 15,
     "metadata": {},
     "output_type": "execute_result"
    }
   ],
   "source": [
    "import pandas as pd\n",
    "import os\n",
    "import vedo\n",
    "vedo.settings.default_backend= 'vtk'\n",
    "import matplotlib.cm as cm\n",
    "import numpy as np\n",
    "from brainrender.actors import Points, PointsDensity\n",
    "from vedo import Plotter\n",
    "import warnings\n",
    "warnings.filterwarnings(\"ignore\", category=DeprecationWarning)\n",
    "from brainrender import Scene,settings\n",
    "from getCellCount import *\n",
    "from getCoordData import *\n",
    "from brainRender import *\n",
    "\n",
    "count_df = get_count_df(\n",
    "    '/run/user/1000/gvfs/smb-share:server=data.einsteinmed.edu,share=users/Gianna Mattessich/2P_desktop_data/SliceData/nelson_brains/coord_files/7556_points.csv',\n",
    "    hemisphere=True)\n",
    "#acronym_counts, name_counts = get_count_dicts(count_df,hemisphere=True)\n",
    "counts_data = get_filtered_counts(count_df, area_contains='VIS',hemisphere=True)\n",
    "print(counts_data)\n",
    "hemisphere=True\n",
    "cmap_name = 'Reds'\n",
    "regions_alpha = 0.8\n",
    "title= 'title'\n",
    "markers=False\n",
    "xml_data=None\n",
    "marker_radius=None\n",
    "markers_alpha=None\n",
    "marker_colors=None\n",
    "settings.SHADER_STYLE = \"metallic\" \n",
    "settings.SHOW_AXES = False\n",
    "settings.BACKGROUND_COLOR = 'black'\n",
    "settings.ROOT_ALPHA = 1\n",
    "if isinstance(counts_data, pd.DataFrame):\n",
    "    acronym_counts, name_counts = get_count_dicts(count_df,hemisphere=hemisphere)\n",
    "elif isinstance(counts_data, dict):\n",
    "    acronym_counts = counts_data\n",
    "else:\n",
    "    raise TypeError('Provided input data is not an acronym count dictionary or a count ')\n",
    "acronym_color_map = areas_colormap_dict(acronym_counts,cmap_name=cmap_name)\n",
    "print(acronym_color_map)\n",
    "scene = Scene(atlas_name='allen_mouse_25um',title=title)\n",
    "for acronym, hex_color in acronym_color_map.items():\n",
    "    if hemisphere:\n",
    "        right_acronym_colors = {acronym:color for acronym,color in acronym_color_map.items() if 'right' in acronym}\n",
    "        print(right_acronym_colors)\n",
    "        left_acronym_colors = {acronym:color for acronym,color in acronym_color_map.items() if 'left' in acronym}\n",
    "        for acronym,hex_color in right_acronym_colors.items():\n",
    "            areaname, hemisphere = tuple(acronym.split(','))\n",
    "            scene.add_brain_region(areaname,alpha=regions_alpha,hemisphere='right',color=hex_color,silhouette=True,force=True)\n",
    "        for acronym,hex_color in left_acronym_colors.items():\n",
    "            areaname, hemisphere = tuple(acronym.split(','))\n",
    "            scene.add_brain_region(areaname,alpha=regions_alpha,hemisphere='left',color=hex_color,silhouette=True,force=True)\n",
    "    for acronym,hex_color in acronym_color_map.items():    \n",
    "        areaname, hemisphere = tuple(acronym.split(','))\n",
    "        scene.add_brain_region(areaname,alpha=regions_alpha,hemisphere='both',color=hex_color,force=True)\n",
    "if markers:\n",
    "    if xml_data is None:\n",
    "        raise ValueError('Markers argument was set to True but no XML data was provided. Please provide either a folder containing' \\\n",
    "        'properly constructed XML file, or folder containing XML files')\n",
    "    positions, markers = get_coords(xml_data)\n",
    "    marker_19_coords = markers[markers['Marker'] == 'marker 19'].loc[:,['x','y','z']].to_numpy()\n",
    "    marker_20_coords = markers[markers['Marker'] == 'marker 20'].loc[:,['x','y','z']].to_numpy()\n",
    "    scene.add(Points(marker_19_coords, radius=marker_radius, alpha=markers_alpha, colors=marker_colors[0]))\n",
    "    scene.add(Points(marker_20_coords, radius=marker_radius, alpha=markers_alpha, colors=marker_colors[1]))\n",
    "# render\n",
    "anim = Animation(scene, save_fld='/home/gianna/Downloads', name='brainrender_animation',fmt='.mp4',size=\"1280x920\")\n",
    "\n",
    "# Specify camera position and zoom at some key frames\n",
    "# each key frame defines the scene's state after n seconds have passed\n",
    "anim.add_keyframe(0, camera=\"top\", zoom=1)\n",
    "anim.add_keyframe(1.5, camera=\"sagittal\", zoom=0.95)\n",
    "anim.add_keyframe(3, camera=\"sagittal\", zoom=0.8)\n",
    "anim.add_keyframe(4, camera=\"sagittal\", zoom=0.9)\n",
    "anim.add_keyframe(5, camera=\"frontal\", zoom=1)\n",
    "anim.add_keyframe(6, camera=\"frontal\", zoom=1.2)\n",
    "anim.add_keyframe(7, camera=\"top\", zoom=1)\n",
    "\n",
    "# Make videos\n",
    "anim.make_video(duration=7, fps=15, resetcam=True)\n"
   ]
  },
  {
   "cell_type": "markdown",
   "id": "403b8d42",
   "metadata": {},
   "source": []
  }
 ],
 "metadata": {
  "kernelspec": {
   "display_name": "gianna_venv",
   "language": "python",
   "name": "python3"
  },
  "language_info": {
   "codemirror_mode": {
    "name": "ipython",
    "version": 3
   },
   "file_extension": ".py",
   "mimetype": "text/x-python",
   "name": "python",
   "nbconvert_exporter": "python",
   "pygments_lexer": "ipython3",
   "version": "3.11.11"
  }
 },
 "nbformat": 4,
 "nbformat_minor": 5
}
